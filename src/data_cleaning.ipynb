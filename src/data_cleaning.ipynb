{
 "cells": [
  {
   "cell_type": "code",
   "execution_count": 2,
   "id": "3f37d917-63d3-41cc-8bda-4ad5c9feeb2c",
   "metadata": {},
   "outputs": [],
   "source": [
    "import pandas as pd\n",
    "import numpy as np"
   ]
  },
  {
   "cell_type": "code",
   "execution_count": 10,
   "id": "df2f0391-e280-40b1-b037-7853cc5427c4",
   "metadata": {},
   "outputs": [],
   "source": [
    "df = pd.read_csv(\"../data/2022_rankings.csv\")"
   ]
  },
  {
   "cell_type": "code",
   "execution_count": 12,
   "id": "3d6daf2f-69ca-40d9-8922-39e8accc455a",
   "metadata": {},
   "outputs": [
    {
     "name": "stdout",
     "output_type": "stream",
     "text": [
      "Null values before cleaning:\n",
      "rank_order                            0\n",
      "rank                                  0\n",
      "name                                  0\n",
      "scores_overall                        0\n",
      "scores_overall_rank                   0\n",
      "scores_teaching                       0\n",
      "scores_teaching_rank                  0\n",
      "scores_research                       0\n",
      "scores_research_rank                  0\n",
      "scores_citations                      0\n",
      "scores_citations_rank                 0\n",
      "scores_industry_income                0\n",
      "scores_industry_income_rank           0\n",
      "scores_international_outlook          0\n",
      "scores_international_outlook_rank     0\n",
      "location                              0\n",
      "stats_number_students                 0\n",
      "stats_student_staff_ratio             0\n",
      "stats_pc_intl_students                0\n",
      "stats_female_male_ratio              20\n",
      "aliases                               0\n",
      "subjects_offered                      0\n",
      "closed                                0\n",
      "unaccredited                          0\n",
      "Year                                  0\n",
      "dtype: int64\n"
     ]
    }
   ],
   "source": [
    "print(\"Null values before cleaning:\")\n",
    "print(df.isnull().sum())"
   ]
  },
  {
   "cell_type": "code",
   "execution_count": 14,
   "id": "d5e5a49b-63c5-4b82-8638-fae99c065545",
   "metadata": {},
   "outputs": [],
   "source": [
    "df = df.replace(to_replace=np.NaN, value=0)"
   ]
  },
  {
   "cell_type": "code",
   "execution_count": 16,
   "id": "6b6fa084-e610-4ed2-9328-81ea2cae1fa7",
   "metadata": {},
   "outputs": [
    {
     "name": "stdout",
     "output_type": "stream",
     "text": [
      "Null values after cleaning:\n",
      "rank_order                           0\n",
      "rank                                 0\n",
      "name                                 0\n",
      "scores_overall                       0\n",
      "scores_overall_rank                  0\n",
      "scores_teaching                      0\n",
      "scores_teaching_rank                 0\n",
      "scores_research                      0\n",
      "scores_research_rank                 0\n",
      "scores_citations                     0\n",
      "scores_citations_rank                0\n",
      "scores_industry_income               0\n",
      "scores_industry_income_rank          0\n",
      "scores_international_outlook         0\n",
      "scores_international_outlook_rank    0\n",
      "location                             0\n",
      "stats_number_students                0\n",
      "stats_student_staff_ratio            0\n",
      "stats_pc_intl_students               0\n",
      "stats_female_male_ratio              0\n",
      "aliases                              0\n",
      "subjects_offered                     0\n",
      "closed                               0\n",
      "unaccredited                         0\n",
      "Year                                 0\n",
      "dtype: int64\n"
     ]
    }
   ],
   "source": [
    "print(\"Null values after cleaning:\")\n",
    "print(df.isnull().sum())"
   ]
  },
  {
   "cell_type": "code",
   "execution_count": 18,
   "id": "16a5e0bc-9e00-4a98-8473-cadf02e71365",
   "metadata": {},
   "outputs": [],
   "source": [
    "df.to_csv(\"../data/2022_rankings_cleaned.csv\", index=False)"
   ]
  },
  {
   "cell_type": "code",
   "execution_count": null,
   "id": "01c69c37-d8b9-425e-858e-bd2a278fee81",
   "metadata": {},
   "outputs": [],
   "source": []
  }
 ],
 "metadata": {
  "kernelspec": {
   "display_name": "Python 3 (ipykernel)",
   "language": "python",
   "name": "python3"
  },
  "language_info": {
   "codemirror_mode": {
    "name": "ipython",
    "version": 3
   },
   "file_extension": ".py",
   "mimetype": "text/x-python",
   "name": "python",
   "nbconvert_exporter": "python",
   "pygments_lexer": "ipython3",
   "version": "3.12.4"
  }
 },
 "nbformat": 4,
 "nbformat_minor": 5
}
